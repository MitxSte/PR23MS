{
 "cells": [
  {
   "cell_type": "markdown",
   "id": "f5c869d0",
   "metadata": {},
   "source": [
    "## Analiza navad spanja\n",
    "### Projekt pri predmetu podatkovno rudarjenje \n",
    "\n",
    "**Mitjan Stepančič**"
   ]
  },
  {
   "cell_type": "markdown",
   "id": "9b27530e",
   "metadata": {},
   "source": [
    "Na podlagi podatkov pridobljenih iz mobilne aplikacije [Alarmy](https://play.google.com/store/apps/etails?id=droom.sleepIfUCan&hl=en&gl=US), nameravam odkriti in analizirati lastne navade spanca."
   ]
  },
  {
   "cell_type": "markdown",
   "id": "6704c191",
   "metadata": {},
   "source": [
    "### Opis problema\n",
    "\n",
    "Med prvim koronskim lockdownom sem si zaradi vedno slabšega spanca naložil aplikacijo, ki naj bi pomagala pri prebujanju ter vzdrževanju zdravih navad spanja. Kmalu po njeni namestitvi sem opazil, da se v aplikaciji shranjujejo podatki o izklopljenih budilkah, kar me je spodbudilo k njeni uporabi. Po treh letih rabe aplikacije, imam nakopičeno že kar veliko količino podatkov o mojem prebujanju, iz katerih želim izvedeti, kaj največ vpliva na moje spanje, ter kako bi lahko le to izboljšal."
   ]
  },
  {
   "cell_type": "markdown",
   "id": "fb335e28",
   "metadata": {},
   "source": [
    "### Podatki\n",
    "\n",
    "\n",
    "#### Pridobivanje podatkov\n",
    "\n",
    "Podatki so v [aplikaciji](https://play.google.com/store/apps/details?id=droom.sleepIfUCan&hl=en&gl=US) shranjeni v obliki preprostega menija. Screenshotal sem vse [podmenije](https://github.com/MitxSte/PR23MS/tree/main/podatki/screens). Prvi podatki so bili zabeleženi 26. marca 2020, zadnji upoštevani podatki pa 31. januarja 2023.\n",
    "\n",
    "#### Pretvorba podatkov\n",
    "\n",
    "Sledila je pretvorba zaslonskih slik v uporabne podatke. Najprej sem slike pravilno obrezal, tako da so se posamezne budilke pojavile le enrat, ter tako tudi pomanjšal pogostost napak pri OCR. Nato sem napisal [skripto](https://github.com/MitxSte/PR23MS/blob/main/scripts/branjeSlik.py), v kateri sem za OCR uporabil python knjižnice cv2, pytesseract in PIL. Skripta vse slike \"prebere\", prebrane podatke filtrira (izloči sintaksno neveljavne), veljavne vnose pa zapiše v ločeno [datoteko](https://github.com/MitxSte/PR23MS/blob/main/podatki/test.txt).\n",
    "\n",
    "Za nadaljno obravnavanje podatkov sem le te pretvoril iz novo-ustvarjene datoteke v seznam slovarjev, kjer vsak slovar predstavlja en alarm.\n",
    "\n",
    "Oblika podatkov:\n",
    "```\n",
    "[{'datum': '2022.09.01',\n",
    "'ura': '11:31',\n",
    "'dan': 'Thu'},...]\n",
    "```\n",
    "\n",
    "#### Opis podatkov\n",
    "\n",
    "Ugotovil sem, da sem od 26. marca 2020, do 31. januarja 2023 (1042 dni), ugasnil kar 3812 budilk, pri branju slik pa je do napak prišlo pri 82, torej jih lahko za analizo uporabim 3730. Ker sem torej za prebujanje uporabil v povprečju nekaj manj kot 4 budilke na dan, bom za številne analize moral podatke dodatno urediti. Če bi  želel analizirati npr. uro vstajanja, bi kot podatke seveda upošteval le zadnje ugašnjene budilke dneva (recimo da je prva budilka zvonila ob 6:30, druga ob 6:45, tretja pa 7:00 - upošteval bi le budilko ob 7:00, saj so očitno bile prvi dve v nalogi prebujanja neuspešne). Za omenjeno filtriranje podatkov sem napisal [funkcijo filter_alarms_zadnji_v_dnevu](https://github.com/MitxSte/PR23MS/blob/main/scripts/prva_s.py). Po filtriranju je ostalo še 893 budilk (kar tudi pomeni, da v skoraj 3 letih nisem imel vklopljene budilke le 149 dni). \n",
    "\n",
    "Seveda pa bom lahko za ugotavljanje številnih navad uporabil tudi celotne podatke (ne le zadnje budilke dneva), npr. koliko časa potrebujem za prebujanje (čas od prve budilke do zadnje), koliko budilk potrebujem, da se prebudim med tednom in koliko med vikendom ipd.\n",
    "\n",
    "#### Osamelci\n",
    "\n",
    "Po prvih vizualizacijah so postali očitni podatki, ki pri analizi spanca niso dodale nobene vrednosti. Iz podatkov sem izločil budilke, katere sem izklopil pred 3:00 in po 15:00. Takih budilk je bilo le 7. Poleg tega sem ugotovil dodatno napako pri branju podatkov, ena izmed budilk je namreč bila zabeležena na dan 19.12.3023.\n",
    "\n",
    "\n",
    "#### Dodajanje atributov\n",
    "\n",
    "Da bi lahko navade spanca bolj specifično opredelil in analiziral, sem s številnimi funkcijami podatkom dodal naslednje atribute:\n",
    "\n",
    "<b><i>ura_total_minute</i></b>, ki predstavlja število minut od polnoči, tako sem si v številnih primerih olajšal primerjave časa v obliki HH:MM,\n",
    "\n",
    "<b><i>letniCas</i></b>, omogoča enostavno analizo navad spanca na podlagi letnega časa,\n",
    "\n",
    "<b><i>matura</i></b>, ki je nastavljen na 1 za budilke, katere sem izklopil v obdobju pisanja mature,\n",
    "\n",
    "<b><i>izpitno</i></b>, ki je nastavljen na 1 za budilke, katere sem izklopil med izpitnimi obdobji,\n",
    "\n",
    "<b><i>vikend</i></b>, ki je nastavljen na 1 za budilke, ki so bile izklopljene v soboto ali nedeljo ter\n",
    "\n",
    "<b><i>prost</i></b>, ki je nastavljen na 1 pri budilkah, katere sem izklopil, med npr. poletnimi počitnicami.\n",
    "\n",
    "\n"
   ]
  },
  {
   "cell_type": "markdown",
   "id": "de39350c",
   "metadata": {},
   "source": [
    "### Vizualizacija\n",
    "\n",
    "Takoj je postalo razvidno, da je veliko število navad, sprememb in zanimivosti v mojem prebujanju mogoče razločiti že s preprosto vizualizacijo. Razsevni diagram omogoča vizualizacijo razporeditve podatkov v časovni dimenziji, kar nam omogoča, da vidimo morebitne vzorce ali trende v času izklopa budilk. Na osi x lahko prikažemo časovne točke, medtem ko na osi y prikažemo čas izklopa. Tako lahko hitro opazimo morebitne anomalije, odstopanja ali podobnosti med časovnimi točkami.\n",
    "\n",
    "Najprej sem z razsevnim diagramom izrisal [vse budilke](https://github.com/MitxSte/PR23MS/blob/main/slike_prikaz/1.png \"Razsevni diagram vseh budilkk\"). Kljub temu, da na prvi pogled izgleda prikaz precej neurejen, se lahko iz njega razbere veliko zanimivih informacij. Očitno se razbere poletja, kjer so budilke redkeje razpršene, nekaj mesecev rednega šolanja v srednji šoli (september 2020 do januarja 2021, sledila je odsotnost zaradi zdravstvenih težav in kasneje priprave na maturo). Osebno mi je zanimivo tudi to, da sem se med obdobjem pisanja mature skušal zbujati prej, kot med izpitnimi obdobji. Vseeno pa je glavna ugotovitev vrjetno ta, da so moje želje po izboljšanju spanca konkretno utemeljene. \n",
    "\n",
    "Podobne ugotovitve so očitne tudi pri prikazu le zadnjih dnevnih budilk.\n",
    "\n",
    "Prav tako je bilo zanimivo izrisati krajša obdobja, kjer so podobno razvidne različne navade in spremembe v spancu, npr.v [diagramu](https://github.com/MitxSte/PR23MS/blob/main/slike_prikaz/2.PNG) januarja in februarja 2021 (izpitno obdobje) se očitno razloči poskuse zgodnjega prebujanja, po opravljenih izpitih pa so poskusi veliko bolj redki in pozni.\n"
   ]
  },
  {
   "cell_type": "markdown",
   "id": "0329fb80",
   "metadata": {},
   "source": [
    "### Analiza prebujanja\n",
    "\n",
    "Z analizo podatkov sem poskušal potrditi nekaj različnih presumcij.\n",
    "\n",
    "#### Prebujanje glede na mesec\n",
    "\n",
    "Sklepal sem, da bo zelo očitna razlika povprečnih časov prebujanja glede na mesec. Po analizi zadnje dnevno izklopnjenih budilk pa sem ugotovil, da temu ni tako.\n",
    "```\n",
    "January: 10:11\n",
    "February: 10:09\n",
    "March: 09:54\n",
    "April: 10:03\n",
    "May: 09:37\n",
    "June: 09:40\n",
    "July: 10:31\n",
    "August: 09:48\n",
    "September: 10:08\n",
    "October: 09:35\n",
    "November: 09:21\n",
    "December: 10:18\n",
    "```\n",
    "\n",
    "Nepričakovano je bilo povprečno prebujanje v avgustu celo nekoliko bolj zgodnje kot v npr. septembru.\n",
    "\n",
    "\n",
    "#### Prebujanje glede na letni čas\n",
    "\n",
    "Podobno sem poskušal ugotoviti tudi za letne čase. Ti rezultati so bili nekoliko bolj pričakovani.\n",
    "```\n",
    "zima: 10:14\n",
    "pomlad: 09:45\n",
    "poletje: 10:13\n",
    "jesen: 09:35\n",
    "```\n",
    "\n",
    "\n",
    "#### Povprečen čas prebujanja\n",
    "\n",
    "Zanimalo me je, koliko časa v povprečju mine, med tem ko v istem dnevu zvoni prva budilka ter zadnja. Ugotovil sem, da je to povprečje kar 89.6 minut.\n",
    "\n",
    "\n",
    "#### Poskusi prebujanja med obdobjem mature in izpitnimi obdobji\n",
    "\n",
    "Med visoko stresnimi obdobji si, kot je očitno iz diagramov, rad nastavim budilke zelo zgodaj, tudi če so le te redko kdaj popolnoma uspešne pri prebujanju. Izvedeti sem želel, ali sem se škušal prej zbuditi med maturitetnim obdobjem oziroma med izpitnimi obdobji. To sem storil tako, da sem upošteval le prve budilke dneva, ter za oba obdobja izračunal povprečni čas teh budilk.\n",
    "```\n",
    "Povprečje prve budilke med maturo: 06:32\n",
    "Povprečje prve budilke med izpitnimi obdobji: 07:01\n",
    "```\n",
    "\n",
    "#### Prebujanje med vikendi, počitnicami in šolo\n",
    "\n",
    "Ugotoviti sem želel razlike v času prebujanja glede na obveznosti v tistem času. Za to sem uporabil prej opisane atribute, budilke sem razdelil na tiste, ki so zvonile med vikendi, tiste, ki so zvonile med poletnimi počitnicami (in drugimi nestresnimi obdobji) in tiste, ki so zvonile med navadnimi, delovnimi tedni.\n",
    "```\n",
    "Vikendi: 11:04\n",
    "Prosta obdobja: 10:55\n",
    "Delovni tedni 09:17\n",
    "```"
   ]
  },
  {
   "cell_type": "markdown",
   "id": "c771f651",
   "metadata": {},
   "source": [
    "### Zaključek\n",
    "\n"
   ]
  },
  {
   "cell_type": "markdown",
   "id": "65ebbba7",
   "metadata": {},
   "source": [
    "Na podlagi analize podatkov, pridobljenih iz mobilne aplikacije Alarmy, sem uspešno odkril in analiziral svoje lastne navade spanca. Vsekakor sem nameraval na podatkih izvesti bolj kompleksne analize in napovedovanja, žal pa sem imel kar nekaj težav z idejami."
   ]
  }
 ],
 "metadata": {
  "kernelspec": {
   "display_name": "Python 3 (ipykernel)",
   "language": "python",
   "name": "python3"
  },
  "language_info": {
   "codemirror_mode": {
    "name": "ipython",
    "version": 3
   },
   "file_extension": ".py",
   "mimetype": "text/x-python",
   "name": "python",
   "nbconvert_exporter": "python",
   "pygments_lexer": "ipython3",
   "version": "3.10.9"
  },
  "nbTranslate": {
   "displayLangs": [
    "*"
   ],
   "hotkey": "alt-t",
   "langInMainMenu": true,
   "sourceLang": "en",
   "targetLang": "fr",
   "useGoogleTranslate": true
  }
 },
 "nbformat": 4,
 "nbformat_minor": 5
}
